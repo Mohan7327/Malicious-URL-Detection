{
  "nbformat": 4,
  "nbformat_minor": 0,
  "metadata": {
    "colab": {
      "name": "Malicious URL Detection.ipynb",
      "provenance": []
    },
    "kernelspec": {
      "name": "python3",
      "display_name": "Python 3"
    },
    "language_info": {
      "name": "python"
    },
    "accelerator": "GPU"
  },
  "cells": [
    {
      "cell_type": "markdown",
      "source": [
        "## **Importing Necessary Libraries**"
      ],
      "metadata": {
        "id": "M4i_XZTx14zU"
      }
    },
    {
      "cell_type": "code",
      "execution_count": 3,
      "metadata": {
        "id": "HCWau41Y5IHj"
      },
      "outputs": [],
      "source": [
        "import pandas as pd\n",
        "import numpy as np\n",
        "import random\n",
        "import pickle\n",
        "\n",
        "from sklearn.model_selection import train_test_split\n",
        "from sklearn.feature_extraction.text import TfidfVectorizer\n",
        "from sklearn.linear_model import LogisticRegression\n",
        "\n",
        "import warnings \n",
        "warnings.filterwarnings('ignore')"
      ]
    },
    {
      "cell_type": "markdown",
      "source": [
        "## **Importing Data**"
      ],
      "metadata": {
        "id": "CdeXBftn2A2-"
      }
    },
    {
      "cell_type": "code",
      "source": [
        "url_df = pd.read_csv('data_url.csv')\n",
        "url_df"
      ],
      "metadata": {
        "id": "4a6VUn4uATy0",
        "colab": {
          "base_uri": "https://localhost:8080/",
          "height": 423
        },
        "outputId": "b91facdd-ec12-4988-f4c1-57b91e027ec4"
      },
      "execution_count": 4,
      "outputs": [
        {
          "output_type": "execute_result",
          "data": {
            "text/plain": [
              "                           url label\n",
              "0       diaryofagameaddict.com   bad\n",
              "1             espdesign.com.au   bad\n",
              "2           iamagameaddict.com   bad\n",
              "3                kalantzis.net   bad\n",
              "4        slightlyoffcenter.net   bad\n",
              "...                        ...   ...\n",
              "420474         23.227.196.215/   bad\n",
              "420475      apple-checker.org/   bad\n",
              "420476       apple-iclods.org/   bad\n",
              "420477      apple-uptoday.org/   bad\n",
              "420478       apple-search.info   bad\n",
              "\n",
              "[420479 rows x 2 columns]"
            ],
            "text/html": [
              "\n",
              "  <div id=\"df-97bee9e9-ace0-4885-b042-f1414800b5fe\">\n",
              "    <div class=\"colab-df-container\">\n",
              "      <div>\n",
              "<style scoped>\n",
              "    .dataframe tbody tr th:only-of-type {\n",
              "        vertical-align: middle;\n",
              "    }\n",
              "\n",
              "    .dataframe tbody tr th {\n",
              "        vertical-align: top;\n",
              "    }\n",
              "\n",
              "    .dataframe thead th {\n",
              "        text-align: right;\n",
              "    }\n",
              "</style>\n",
              "<table border=\"1\" class=\"dataframe\">\n",
              "  <thead>\n",
              "    <tr style=\"text-align: right;\">\n",
              "      <th></th>\n",
              "      <th>url</th>\n",
              "      <th>label</th>\n",
              "    </tr>\n",
              "  </thead>\n",
              "  <tbody>\n",
              "    <tr>\n",
              "      <th>0</th>\n",
              "      <td>diaryofagameaddict.com</td>\n",
              "      <td>bad</td>\n",
              "    </tr>\n",
              "    <tr>\n",
              "      <th>1</th>\n",
              "      <td>espdesign.com.au</td>\n",
              "      <td>bad</td>\n",
              "    </tr>\n",
              "    <tr>\n",
              "      <th>2</th>\n",
              "      <td>iamagameaddict.com</td>\n",
              "      <td>bad</td>\n",
              "    </tr>\n",
              "    <tr>\n",
              "      <th>3</th>\n",
              "      <td>kalantzis.net</td>\n",
              "      <td>bad</td>\n",
              "    </tr>\n",
              "    <tr>\n",
              "      <th>4</th>\n",
              "      <td>slightlyoffcenter.net</td>\n",
              "      <td>bad</td>\n",
              "    </tr>\n",
              "    <tr>\n",
              "      <th>...</th>\n",
              "      <td>...</td>\n",
              "      <td>...</td>\n",
              "    </tr>\n",
              "    <tr>\n",
              "      <th>420474</th>\n",
              "      <td>23.227.196.215/</td>\n",
              "      <td>bad</td>\n",
              "    </tr>\n",
              "    <tr>\n",
              "      <th>420475</th>\n",
              "      <td>apple-checker.org/</td>\n",
              "      <td>bad</td>\n",
              "    </tr>\n",
              "    <tr>\n",
              "      <th>420476</th>\n",
              "      <td>apple-iclods.org/</td>\n",
              "      <td>bad</td>\n",
              "    </tr>\n",
              "    <tr>\n",
              "      <th>420477</th>\n",
              "      <td>apple-uptoday.org/</td>\n",
              "      <td>bad</td>\n",
              "    </tr>\n",
              "    <tr>\n",
              "      <th>420478</th>\n",
              "      <td>apple-search.info</td>\n",
              "      <td>bad</td>\n",
              "    </tr>\n",
              "  </tbody>\n",
              "</table>\n",
              "<p>420479 rows × 2 columns</p>\n",
              "</div>\n",
              "      <button class=\"colab-df-convert\" onclick=\"convertToInteractive('df-97bee9e9-ace0-4885-b042-f1414800b5fe')\"\n",
              "              title=\"Convert this dataframe to an interactive table.\"\n",
              "              style=\"display:none;\">\n",
              "        \n",
              "  <svg xmlns=\"http://www.w3.org/2000/svg\" height=\"24px\"viewBox=\"0 0 24 24\"\n",
              "       width=\"24px\">\n",
              "    <path d=\"M0 0h24v24H0V0z\" fill=\"none\"/>\n",
              "    <path d=\"M18.56 5.44l.94 2.06.94-2.06 2.06-.94-2.06-.94-.94-2.06-.94 2.06-2.06.94zm-11 1L8.5 8.5l.94-2.06 2.06-.94-2.06-.94L8.5 2.5l-.94 2.06-2.06.94zm10 10l.94 2.06.94-2.06 2.06-.94-2.06-.94-.94-2.06-.94 2.06-2.06.94z\"/><path d=\"M17.41 7.96l-1.37-1.37c-.4-.4-.92-.59-1.43-.59-.52 0-1.04.2-1.43.59L10.3 9.45l-7.72 7.72c-.78.78-.78 2.05 0 2.83L4 21.41c.39.39.9.59 1.41.59.51 0 1.02-.2 1.41-.59l7.78-7.78 2.81-2.81c.8-.78.8-2.07 0-2.86zM5.41 20L4 18.59l7.72-7.72 1.47 1.35L5.41 20z\"/>\n",
              "  </svg>\n",
              "      </button>\n",
              "      \n",
              "  <style>\n",
              "    .colab-df-container {\n",
              "      display:flex;\n",
              "      flex-wrap:wrap;\n",
              "      gap: 12px;\n",
              "    }\n",
              "\n",
              "    .colab-df-convert {\n",
              "      background-color: #E8F0FE;\n",
              "      border: none;\n",
              "      border-radius: 50%;\n",
              "      cursor: pointer;\n",
              "      display: none;\n",
              "      fill: #1967D2;\n",
              "      height: 32px;\n",
              "      padding: 0 0 0 0;\n",
              "      width: 32px;\n",
              "    }\n",
              "\n",
              "    .colab-df-convert:hover {\n",
              "      background-color: #E2EBFA;\n",
              "      box-shadow: 0px 1px 2px rgba(60, 64, 67, 0.3), 0px 1px 3px 1px rgba(60, 64, 67, 0.15);\n",
              "      fill: #174EA6;\n",
              "    }\n",
              "\n",
              "    [theme=dark] .colab-df-convert {\n",
              "      background-color: #3B4455;\n",
              "      fill: #D2E3FC;\n",
              "    }\n",
              "\n",
              "    [theme=dark] .colab-df-convert:hover {\n",
              "      background-color: #434B5C;\n",
              "      box-shadow: 0px 1px 3px 1px rgba(0, 0, 0, 0.15);\n",
              "      filter: drop-shadow(0px 1px 2px rgba(0, 0, 0, 0.3));\n",
              "      fill: #FFFFFF;\n",
              "    }\n",
              "  </style>\n",
              "\n",
              "      <script>\n",
              "        const buttonEl =\n",
              "          document.querySelector('#df-97bee9e9-ace0-4885-b042-f1414800b5fe button.colab-df-convert');\n",
              "        buttonEl.style.display =\n",
              "          google.colab.kernel.accessAllowed ? 'block' : 'none';\n",
              "\n",
              "        async function convertToInteractive(key) {\n",
              "          const element = document.querySelector('#df-97bee9e9-ace0-4885-b042-f1414800b5fe');\n",
              "          const dataTable =\n",
              "            await google.colab.kernel.invokeFunction('convertToInteractive',\n",
              "                                                     [key], {});\n",
              "          if (!dataTable) return;\n",
              "\n",
              "          const docLinkHtml = 'Like what you see? Visit the ' +\n",
              "            '<a target=\"_blank\" href=https://colab.research.google.com/notebooks/data_table.ipynb>data table notebook</a>'\n",
              "            + ' to learn more about interactive tables.';\n",
              "          element.innerHTML = '';\n",
              "          dataTable['output_type'] = 'display_data';\n",
              "          await google.colab.output.renderOutput(dataTable, element);\n",
              "          const docLink = document.createElement('div');\n",
              "          docLink.innerHTML = docLinkHtml;\n",
              "          element.appendChild(docLink);\n",
              "        }\n",
              "      </script>\n",
              "    </div>\n",
              "  </div>\n",
              "  "
            ]
          },
          "metadata": {},
          "execution_count": 4
        }
      ]
    },
    {
      "cell_type": "markdown",
      "source": [
        "## **Data Preprocessing**"
      ],
      "metadata": {
        "id": "bPD_1tZe2FEM"
      }
    },
    {
      "cell_type": "code",
      "source": [
        "def sanitization(web):                      # tokenizing method\n",
        "    web = web.lower()\n",
        "    token = []\n",
        "    dot_token_slash = []\n",
        "    raw_slash = str(web).split('/')\n",
        "    for i in raw_slash:\n",
        "        raw1 = str(i).split('-')            # removing slash to get token\n",
        "        slash_token = []\n",
        "        for j in range(0,len(raw1)):\n",
        "            raw2 = str(raw1[j]).split('.')  # removing dot to get the tokens\n",
        "            slash_token = slash_token + raw2\n",
        "        dot_token_slash = dot_token_slash + raw1 + slash_token # all tokens\n",
        "    token = list(set(dot_token_slash)) \n",
        "    # to remove same words  \n",
        "    if 'www' in token:\n",
        "        token.remove('www')                 # remove www\n",
        "    return token\n",
        "    if 'com' in token:\n",
        "        token.remove('com')                 # remove com\n",
        "\n",
        "\n",
        "\n",
        "#url = '~/data_url.csv'\n",
        "#url_csv = pd.read_csv(url,',',error_bad_lines=False)\n",
        "#url_df = pd.DataFrame(url_csv)              # to convert into data frames                                                                                  \n",
        "url_df = np.array(url_df)                   # to convert into array   \n",
        "random.shuffle(url_df)\n",
        "y = [d[1] for d in url_df]                  # all labels\n",
        "urls = [d[0] for d in url_df]               # all urls corresponding to a label {G/B}"
      ],
      "metadata": {
        "id": "r8P755_9J2fv"
      },
      "execution_count": 5,
      "outputs": []
    },
    {
      "cell_type": "markdown",
      "source": [
        "## **Model Building**"
      ],
      "metadata": {
        "id": "kp8WtxcR2Q00"
      }
    },
    {
      "cell_type": "code",
      "source": [
        "vectorizer = TfidfVectorizer(tokenizer=sanitization)  # term-frequency and inverse-document-frequency\n",
        "x = vectorizer.fit_transform(urls)\n",
        "x_train, x_test, y_train, y_test = train_test_split(x, y, test_size=0.2, random_state=42)"
      ],
      "metadata": {
        "id": "u6X6jUdK2LMt"
      },
      "execution_count": 6,
      "outputs": []
    },
    {
      "cell_type": "markdown",
      "source": [
        "## **Model Training**"
      ],
      "metadata": {
        "id": "LE8LVPms2WJe"
      }
    },
    {
      "cell_type": "code",
      "source": [
        "lgr = LogisticRegression()                  # Logistic regression\n",
        "lgr.fit(x_train, y_train)"
      ],
      "metadata": {
        "colab": {
          "base_uri": "https://localhost:8080/"
        },
        "id": "BGhoMewT2ZCl",
        "outputId": "bcc1a6c2-969b-46de-e4f7-fe1dd5bc7b88"
      },
      "execution_count": 8,
      "outputs": [
        {
          "output_type": "execute_result",
          "data": {
            "text/plain": [
              "LogisticRegression()"
            ]
          },
          "metadata": {},
          "execution_count": 8
        }
      ]
    },
    {
      "cell_type": "markdown",
      "source": [
        "## **Model Testing**"
      ],
      "metadata": {
        "id": "1bio09TQ2eZe"
      }
    },
    {
      "cell_type": "code",
      "source": [
        "x_predict = ['hackthebox.eu','google.com/search=VAD3R','wikipedia.co.uk']\n",
        "x_predict = vectorizer.transform(x_predict)\n",
        "y_predict = lgr.predict(x_predict)\n",
        "print (y_predict)"
      ],
      "metadata": {
        "colab": {
          "base_uri": "https://localhost:8080/"
        },
        "id": "BrnUeiVX2twN",
        "outputId": "70c0e9b8-7fd9-4a4e-bff9-f11a867befa8"
      },
      "execution_count": 9,
      "outputs": [
        {
          "output_type": "stream",
          "name": "stdout",
          "text": [
            "['bad' 'good' 'good']\n"
          ]
        }
      ]
    },
    {
      "cell_type": "markdown",
      "source": [
        "## **Model Evaluation**"
      ],
      "metadata": {
        "id": "7ItJZ2hz2w9P"
      }
    },
    {
      "cell_type": "code",
      "source": [
        "score = lgr.score(x_test, y_test)\n",
        "print(\"score: {0:.2f} %\".format(100 * score))\n",
        "vectorizer_save = vectorizer"
      ],
      "metadata": {
        "colab": {
          "base_uri": "https://localhost:8080/"
        },
        "id": "wG5caLie20b9",
        "outputId": "f0abf298-2d73-4749-bdf7-6ed301a6bad9"
      },
      "execution_count": 10,
      "outputs": [
        {
          "output_type": "stream",
          "name": "stdout",
          "text": [
            "score: 98.33 %\n"
          ]
        }
      ]
    },
    {
      "cell_type": "markdown",
      "source": [
        "## **Model Deployement**"
      ],
      "metadata": {
        "id": "ddaFzsOh23wk"
      }
    },
    {
      "cell_type": "code",
      "source": [
        "file = \"pickel_model.pkl\"\n",
        "with open(file, 'wb') as f:\n",
        "    pickle.dump(lgr, f)\n",
        "f.close()\n",
        "\n",
        "file2 = \"pickel_vector.pkl\"\n",
        "with open(file2,'wb') as f2:\n",
        "    pickle.dump(vectorizer_save, f2)\n",
        "f2.close()"
      ],
      "metadata": {
        "id": "vB2oh0zy27TM"
      },
      "execution_count": 11,
      "outputs": []
    }
  ]
}